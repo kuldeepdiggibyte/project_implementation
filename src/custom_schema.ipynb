{
 "cells": [
  {
   "cell_type": "code",
   "execution_count": 0,
   "metadata": {
    "application/vnd.databricks.v1+cell": {
     "cellMetadata": {
      "byteLimit": 2048000,
      "rowLimit": 10000
     },
     "inputWidgets": {},
     "nuid": "0553d454-df64-4a7f-a0f3-af0260233982",
     "showTitle": false,
     "title": ""
    }
   },
   "outputs": [
    {
     "output_type": "display_data",
     "data": {
      "text/html": [
       "<style scoped>\n",
       "  .table-result-container {\n",
       "    max-height: 300px;\n",
       "    overflow: auto;\n",
       "  }\n",
       "  table, th, td {\n",
       "    border: 1px solid black;\n",
       "    border-collapse: collapse;\n",
       "  }\n",
       "  th, td {\n",
       "    padding: 5px;\n",
       "  }\n",
       "  th {\n",
       "    text-align: left;\n",
       "  }\n",
       "</style><div class='table-result-container'><table class='table-result'><thead style='background-color: white'><tr><th>properties</th><th>required</th><th>type</th></tr></thead><tbody><tr><td>List(List(List(List(date-time, string), List(string), List(string)), object), List(List(List(List(List(Vietnam, Morocco, Korea, Australia, Other), string), List(List(List(string), List(number), List(boolean)), List(field1, field2, field3), object), List(date-time, string), List(List(List(boolean), List(boolean)), object)), List(country, date, data), object), array))</td><td>List(trainingData, metadata)</td><td>object</td></tr></tbody></table></div>"
      ]
     },
     "metadata": {
      "application/vnd.databricks.v1+output": {
       "addedWidgets": {},
       "aggData": [],
       "aggError": "",
       "aggOverflow": false,
       "aggSchema": [],
       "aggSeriesLimitReached": false,
       "aggType": "",
       "arguments": {},
       "columnCustomDisplayInfos": {},
       "data": [
        [
         [
          [
           [
            [
             "date-time",
             "string"
            ],
            [
             "string"
            ],
            [
             "string"
            ]
           ],
           "object"
          ],
          [
           [
            [
             [
              [
               "Vietnam",
               "Morocco",
               "Korea",
               "Australia",
               "Other"
              ],
              "string"
             ],
             [
              [
               [
                "string"
               ],
               [
                "number"
               ],
               [
                "boolean"
               ]
              ],
              [
               "field1",
               "field2",
               "field3"
              ],
              "object"
             ],
             [
              "date-time",
              "string"
             ],
             [
              [
               [
                "boolean"
               ],
               [
                "boolean"
               ]
              ],
              "object"
             ]
            ],
            [
             "country",
             "date",
             "data"
            ],
            "object"
           ],
           "array"
          ]
         ],
         [
          "trainingData",
          "metadata"
         ],
         "object"
        ]
       ],
       "datasetInfos": [],
       "dbfsResultPath": null,
       "isJsonSchema": true,
       "metadata": {},
       "overflow": false,
       "plotOptions": {
        "customPlotOptions": {},
        "displayType": "table",
        "pivotAggregation": null,
        "pivotColumns": null,
        "xColumns": null,
        "yColumns": null
       },
       "removedWidgets": [],
       "schema": [
        {
         "metadata": "{}",
         "name": "properties",
         "type": "{\"type\":\"struct\",\"fields\":[{\"name\":\"metadata\",\"type\":{\"type\":\"struct\",\"fields\":[{\"name\":\"properties\",\"type\":{\"type\":\"struct\",\"fields\":[{\"name\":\"createdAt\",\"type\":{\"type\":\"struct\",\"fields\":[{\"name\":\"format\",\"type\":\"string\",\"nullable\":true,\"metadata\":{}},{\"name\":\"type\",\"type\":\"string\",\"nullable\":true,\"metadata\":{}}]},\"nullable\":true,\"metadata\":{}},{\"name\":\"createdBy\",\"type\":{\"type\":\"struct\",\"fields\":[{\"name\":\"type\",\"type\":\"string\",\"nullable\":true,\"metadata\":{}}]},\"nullable\":true,\"metadata\":{}},{\"name\":\"version\",\"type\":{\"type\":\"struct\",\"fields\":[{\"name\":\"type\",\"type\":\"string\",\"nullable\":true,\"metadata\":{}}]},\"nullable\":true,\"metadata\":{}}]},\"nullable\":true,\"metadata\":{}},{\"name\":\"type\",\"type\":\"string\",\"nullable\":true,\"metadata\":{}}]},\"nullable\":true,\"metadata\":{}},{\"name\":\"trainingData\",\"type\":{\"type\":\"struct\",\"fields\":[{\"name\":\"items\",\"type\":{\"type\":\"struct\",\"fields\":[{\"name\":\"properties\",\"type\":{\"type\":\"struct\",\"fields\":[{\"name\":\"country\",\"type\":{\"type\":\"struct\",\"fields\":[{\"name\":\"enum\",\"type\":{\"type\":\"array\",\"elementType\":\"string\",\"containsNull\":true},\"nullable\":true,\"metadata\":{}},{\"name\":\"type\",\"type\":\"string\",\"nullable\":true,\"metadata\":{}}]},\"nullable\":true,\"metadata\":{}},{\"name\":\"data\",\"type\":{\"type\":\"struct\",\"fields\":[{\"name\":\"properties\",\"type\":{\"type\":\"struct\",\"fields\":[{\"name\":\"field1\",\"type\":{\"type\":\"struct\",\"fields\":[{\"name\":\"type\",\"type\":\"string\",\"nullable\":true,\"metadata\":{}}]},\"nullable\":true,\"metadata\":{}},{\"name\":\"field2\",\"type\":{\"type\":\"struct\",\"fields\":[{\"name\":\"type\",\"type\":\"string\",\"nullable\":true,\"metadata\":{}}]},\"nullable\":true,\"metadata\":{}},{\"name\":\"field3\",\"type\":{\"type\":\"struct\",\"fields\":[{\"name\":\"type\",\"type\":\"string\",\"nullable\":true,\"metadata\":{}}]},\"nullable\":true,\"metadata\":{}}]},\"nullable\":true,\"metadata\":{}},{\"name\":\"required\",\"type\":{\"type\":\"array\",\"elementType\":\"string\",\"containsNull\":true},\"nullable\":true,\"metadata\":{}},{\"name\":\"type\",\"type\":\"string\",\"nullable\":true,\"metadata\":{}}]},\"nullable\":true,\"metadata\":{}},{\"name\":\"date\",\"type\":{\"type\":\"struct\",\"fields\":[{\"name\":\"format\",\"type\":\"string\",\"nullable\":true,\"metadata\":{}},{\"name\":\"type\",\"type\":\"string\",\"nullable\":true,\"metadata\":{}}]},\"nullable\":true,\"metadata\":{}},{\"name\":\"issues\",\"type\":{\"type\":\"struct\",\"fields\":[{\"name\":\"properties\",\"type\":{\"type\":\"struct\",\"fields\":[{\"name\":\"countryDataIssue\",\"type\":{\"type\":\"struct\",\"fields\":[{\"name\":\"type\",\"type\":\"string\",\"nullable\":true,\"metadata\":{}}]},\"nullable\":true,\"metadata\":{}},{\"name\":\"dateFormatIssue\",\"type\":{\"type\":\"struct\",\"fields\":[{\"name\":\"type\",\"type\":\"string\",\"nullable\":true,\"metadata\":{}}]},\"nullable\":true,\"metadata\":{}}]},\"nullable\":true,\"metadata\":{}},{\"name\":\"type\",\"type\":\"string\",\"nullable\":true,\"metadata\":{}}]},\"nullable\":true,\"metadata\":{}}]},\"nullable\":true,\"metadata\":{}},{\"name\":\"required\",\"type\":{\"type\":\"array\",\"elementType\":\"string\",\"containsNull\":true},\"nullable\":true,\"metadata\":{}},{\"name\":\"type\",\"type\":\"string\",\"nullable\":true,\"metadata\":{}}]},\"nullable\":true,\"metadata\":{}},{\"name\":\"type\",\"type\":\"string\",\"nullable\":true,\"metadata\":{}}]},\"nullable\":true,\"metadata\":{}}]}"
        },
        {
         "metadata": "{}",
         "name": "required",
         "type": "{\"type\":\"array\",\"elementType\":\"string\",\"containsNull\":true}"
        },
        {
         "metadata": "{}",
         "name": "type",
         "type": "\"string\""
        }
       ],
       "type": "table"
      }
     },
     "output_type": "display_data"
    }
   ],
   "source": [
    "json_df = spark.read.json(\"dbfs:/FileStore/sample_json_3_1.json\" , multiLine = True)\n",
    "json_df.display()\n"
   ]
  },
  {
   "cell_type": "code",
   "execution_count": 0,
   "metadata": {
    "application/vnd.databricks.v1+cell": {
     "cellMetadata": {
      "byteLimit": 2048000,
      "rowLimit": 10000
     },
     "inputWidgets": {},
     "nuid": "0a355a92-0cbd-4ae3-9388-6e6afad78135",
     "showTitle": true,
     "title": ""
    }
   },
   "outputs": [],
   "source": [
    "from pyspark.sql.types import StructType, StructField , StringType , IntegerType , ArrayType\n",
    "\n",
    "#parent schema propertiesschema\n",
    "createdAtschema = StructType([\n",
    "    StructField(\"format\" , StringType(), True),\n",
    "    StructField(\"type\" , StringType(), True)\n",
    "])\n",
    "#parent schema propertiesschema\n",
    "createdByschema = StructType([\n",
    "    StructField(\"type\", StringType(), True)\n",
    "])\n",
    "#parent schema propertiesschema\n",
    "versionschema = StructType([\n",
    "    StructField(\"type\" , StringType() , True)\n",
    "])\n",
    "#parent schema metadata\n",
    "metadatapropertiesschema = StructType([\n",
    "    StructField(\"createdAt\" , createdAtschema),\n",
    "    StructField(\"createdBy\" , createdByschema),\n",
    "    StructField(\"version\" , versionschema)\n",
    "])\n",
    "metadataschema = StructType([\n",
    "    StructField(\"properties\" , metadatapropertiesschema , True),\n",
    "    StructField(\"type\" , StringType() , True)\n",
    "])\n",
    "#parent schema dataproertiesschema \n",
    "field1schema = StructType([\n",
    "    StructField(\"type\" , StringType() , True)\n",
    "])\n",
    "\n",
    "#parent schema dataproertiesschema s\n",
    "field2schema = StructType([\n",
    "    StructField(\"type\", StringType(), True)\n",
    "])\n",
    "\n",
    "#parent schema dataproertiesschema\n",
    "field3schema = StructType([\n",
    "    StructField(\"type\" , StringType() , True)\n",
    "])\n",
    "\n",
    "datapropertiesschema = StructType([\n",
    "    StructField(\"field1\" , field1schema , True),\n",
    "    StructField(\"field2\" , field2schema , True),\n",
    "    StructField(\"field3\" , field3schema , True)\n",
    "])\n",
    "#parentschema trainingdataitemsschema\n",
    "itempropertiesschema = StructType([\n",
    "    StructField(\"country\" , StructType([\n",
    "        StructField(\"enum\" , ArrayType(StringType() , containsNull = True)),\n",
    "        StructField(\"type\" , StringType() , True)\n",
    "    ]), True),\n",
    "    StructField(\"data\" , StructType([\n",
    "        StructField(\"properties\" , datapropertiesschema , True),\n",
    "        StructField(\"required\", ArrayType(StringType() , containsNull= True)),\n",
    "        StructField(\"type\" , ArrayType(StringType() , containsNull= True))\n",
    "    ]), True),\n",
    "    StructField(\"date\" , StructType([\n",
    "        StructField(\"format\" , StringType() , True),\n",
    "        StructField(\"type\" , StringType() , True)\n",
    "    ]), True),\n",
    "    StructField(\"issue\" , StructType([\n",
    "        StructField(\"properties\" , StructType([\n",
    "            StructField(\"countryDataIssue\" , StructType([\n",
    "                StructField(\"type\" , StringType() , True)\n",
    "            ]), True),\n",
    "            StructField(\"dateFormatIssue\" ,StructType([\n",
    "                StructField(\"type\" , StringType(), True)\n",
    "            ]) )\n",
    "        ]), True),\n",
    "        StructField(\"type\" , StringType() , True),\n",
    "        ]), True)\n",
    "])\n",
    "\n",
    "trainingdataitemsschema = StructType([\n",
    "    StructField(\"properties\" ,itempropertiesschema , True ),\n",
    "    StructField(\"required\" , ArrayType(StringType() ,containsNull = True ), True),\n",
    "    StructField(\"type\" , StringType() , True)\n",
    "\n",
    "])\n",
    "\n",
    "\n",
    "#parentschema trainingData\n",
    "trainingdataschema = StructType([\n",
    "    StructField(\"items\" , trainingdataitemsschema , True),\n",
    "    StructField(\"type\" , StringType() , True)\n",
    "])\n",
    "\n",
    "#parentschema properties\n",
    "propertiesschema = StructType([\n",
    "    StructField(\"metadata\" , metadataschema , True),\n",
    "    StructField(\"trainingData\" , trainingdataschema , True),\n",
    "\n",
    "])\n",
    "\n",
    "#parentschema \n",
    "custom_schema = StructType([\n",
    "    StructField(\"properties\" ,propertiesschema, True),\n",
    "    StructField(\"required\" , ArrayType(StringType() , containsNull = True) ,True),\n",
    "    StructField(\"type\", StringType() , True)\n",
    "])\n",
    "\n",
    "\n",
    "\n",
    "\n",
    "\n",
    "\n",
    "\n",
    "\n",
    "\n",
    "\n",
    "\n",
    "\n",
    "\n",
    "\n",
    "\n"
   ]
  },
  {
   "cell_type": "code",
   "execution_count": 0,
   "metadata": {
    "application/vnd.databricks.v1+cell": {
     "cellMetadata": {
      "byteLimit": 2048000,
      "rowLimit": 10000
     },
     "inputWidgets": {},
     "nuid": "9cc409ab-c317-4a62-9204-0de54ad97a2a",
     "showTitle": false,
     "title": ""
    }
   },
   "outputs": [
    {
     "output_type": "display_data",
     "data": {
      "text/html": [
       "<style scoped>\n",
       "  .table-result-container {\n",
       "    max-height: 300px;\n",
       "    overflow: auto;\n",
       "  }\n",
       "  table, th, td {\n",
       "    border: 1px solid black;\n",
       "    border-collapse: collapse;\n",
       "  }\n",
       "  th, td {\n",
       "    padding: 5px;\n",
       "  }\n",
       "  th {\n",
       "    text-align: left;\n",
       "  }\n",
       "</style><div class='table-result-container'><table class='table-result'><thead style='background-color: white'><tr><th>properties</th><th>required</th><th>type</th></tr></thead><tbody><tr><td>List(null, null)</td><td>List(field1, field2, field3)</td><td>object</td></tr></tbody></table></div>"
      ]
     },
     "metadata": {
      "application/vnd.databricks.v1+output": {
       "addedWidgets": {},
       "aggData": [],
       "aggError": "",
       "aggOverflow": false,
       "aggSchema": [],
       "aggSeriesLimitReached": false,
       "aggType": "",
       "arguments": {},
       "columnCustomDisplayInfos": {},
       "data": [
        [
         [
          null,
          null
         ],
         [
          "field1",
          "field2",
          "field3"
         ],
         "object"
        ]
       ],
       "datasetInfos": [],
       "dbfsResultPath": null,
       "isJsonSchema": true,
       "metadata": {},
       "overflow": false,
       "plotOptions": {
        "customPlotOptions": {},
        "displayType": "table",
        "pivotAggregation": null,
        "pivotColumns": null,
        "xColumns": null,
        "yColumns": null
       },
       "removedWidgets": [],
       "schema": [
        {
         "metadata": "{}",
         "name": "properties",
         "type": "{\"type\":\"struct\",\"fields\":[{\"name\":\"metadata\",\"type\":{\"type\":\"struct\",\"fields\":[{\"name\":\"properties\",\"type\":{\"type\":\"struct\",\"fields\":[{\"name\":\"createdAt\",\"type\":{\"type\":\"struct\",\"fields\":[{\"name\":\"format\",\"type\":\"string\",\"nullable\":true,\"metadata\":{}},{\"name\":\"type\",\"type\":\"string\",\"nullable\":true,\"metadata\":{}}]},\"nullable\":true,\"metadata\":{}},{\"name\":\"createdBy\",\"type\":{\"type\":\"struct\",\"fields\":[{\"name\":\"type\",\"type\":\"string\",\"nullable\":true,\"metadata\":{}}]},\"nullable\":true,\"metadata\":{}},{\"name\":\"version\",\"type\":{\"type\":\"struct\",\"fields\":[{\"name\":\"type\",\"type\":\"string\",\"nullable\":true,\"metadata\":{}}]},\"nullable\":true,\"metadata\":{}}]},\"nullable\":true,\"metadata\":{}},{\"name\":\"type\",\"type\":\"string\",\"nullable\":true,\"metadata\":{}}]},\"nullable\":true,\"metadata\":{}},{\"name\":\"trainingData\",\"type\":{\"type\":\"struct\",\"fields\":[{\"name\":\"items\",\"type\":{\"type\":\"struct\",\"fields\":[{\"name\":\"properties\",\"type\":{\"type\":\"struct\",\"fields\":[{\"name\":\"country\",\"type\":{\"type\":\"struct\",\"fields\":[{\"name\":\"enum\",\"type\":{\"type\":\"array\",\"elementType\":\"string\",\"containsNull\":true},\"nullable\":true,\"metadata\":{}},{\"name\":\"type\",\"type\":\"string\",\"nullable\":true,\"metadata\":{}}]},\"nullable\":true,\"metadata\":{}},{\"name\":\"data\",\"type\":{\"type\":\"struct\",\"fields\":[{\"name\":\"properties\",\"type\":{\"type\":\"struct\",\"fields\":[{\"name\":\"field1\",\"type\":{\"type\":\"struct\",\"fields\":[{\"name\":\"type\",\"type\":\"string\",\"nullable\":true,\"metadata\":{}}]},\"nullable\":true,\"metadata\":{}},{\"name\":\"field2\",\"type\":{\"type\":\"struct\",\"fields\":[{\"name\":\"type\",\"type\":\"string\",\"nullable\":true,\"metadata\":{}}]},\"nullable\":true,\"metadata\":{}},{\"name\":\"field3\",\"type\":{\"type\":\"struct\",\"fields\":[{\"name\":\"type\",\"type\":\"string\",\"nullable\":true,\"metadata\":{}}]},\"nullable\":true,\"metadata\":{}}]},\"nullable\":true,\"metadata\":{}},{\"name\":\"required\",\"type\":{\"type\":\"array\",\"elementType\":\"string\",\"containsNull\":true},\"nullable\":true,\"metadata\":{}},{\"name\":\"type\",\"type\":{\"type\":\"array\",\"elementType\":\"string\",\"containsNull\":true},\"nullable\":true,\"metadata\":{}}]},\"nullable\":true,\"metadata\":{}},{\"name\":\"date\",\"type\":{\"type\":\"struct\",\"fields\":[{\"name\":\"format\",\"type\":\"string\",\"nullable\":true,\"metadata\":{}},{\"name\":\"type\",\"type\":\"string\",\"nullable\":true,\"metadata\":{}}]},\"nullable\":true,\"metadata\":{}},{\"name\":\"issue\",\"type\":{\"type\":\"struct\",\"fields\":[{\"name\":\"properties\",\"type\":{\"type\":\"struct\",\"fields\":[{\"name\":\"countryDataIssue\",\"type\":{\"type\":\"struct\",\"fields\":[{\"name\":\"type\",\"type\":\"string\",\"nullable\":true,\"metadata\":{}}]},\"nullable\":true,\"metadata\":{}},{\"name\":\"dateFormatIssue\",\"type\":{\"type\":\"struct\",\"fields\":[{\"name\":\"type\",\"type\":\"string\",\"nullable\":true,\"metadata\":{}}]},\"nullable\":true,\"metadata\":{}}]},\"nullable\":true,\"metadata\":{}},{\"name\":\"type\",\"type\":\"string\",\"nullable\":true,\"metadata\":{}}]},\"nullable\":true,\"metadata\":{}}]},\"nullable\":true,\"metadata\":{}},{\"name\":\"required\",\"type\":{\"type\":\"array\",\"elementType\":\"string\",\"containsNull\":true},\"nullable\":true,\"metadata\":{}},{\"name\":\"type\",\"type\":\"string\",\"nullable\":true,\"metadata\":{}}]},\"nullable\":true,\"metadata\":{}},{\"name\":\"type\",\"type\":\"string\",\"nullable\":true,\"metadata\":{}}]},\"nullable\":true,\"metadata\":{}}]}"
        },
        {
         "metadata": "{}",
         "name": "required",
         "type": "{\"type\":\"array\",\"elementType\":\"string\",\"containsNull\":true}"
        },
        {
         "metadata": "{}",
         "name": "type",
         "type": "\"string\""
        }
       ],
       "type": "table"
      }
     },
     "output_type": "display_data"
    }
   ],
   "source": [
    "json_custom_schema = spark.read.json(\"dbfs:/FileStore/sample_json_3_1.json\" , multiLine = True , schema = custom_schema)\n",
    "display(json_custom_schema)"
   ]
  }
 ],
 "metadata": {
  "application/vnd.databricks.v1+notebook": {
   "dashboards": [],
   "environmentMetadata": null,
   "language": "python",
   "notebookMetadata": {
    "pythonIndentUnit": 4
   },
   "notebookName": "custom_schema",
   "widgets": {}
  }
 },
 "nbformat": 4,
 "nbformat_minor": 0
}
